{
 "cells": [
  {
   "cell_type": "code",
   "execution_count": 1,
   "id": "7aa8ced3",
   "metadata": {},
   "outputs": [],
   "source": [
    "# Importing The Necessary Libraries\n",
    "\n",
    "from bs4 import BeautifulSoup\n",
    "import requests\n",
    "import time\n",
    "import datetime\n",
    "import pandas as pd\n",
    "import csv"
   ]
  },
  {
   "cell_type": "code",
   "execution_count": 2,
   "id": "a99684e1",
   "metadata": {},
   "outputs": [
    {
     "name": "stdout",
     "output_type": "stream",
     "text": [
      "\n",
      "\n",
      "\n",
      "            OnePlus 9RT 5G (Hacker Black, 12GB RAM, 256GB Storage)+Alexa hands-free capable\n",
      "           \n",
      "\n",
      "\n",
      "\n",
      "\n",
      "\n",
      "\n",
      "\n",
      "\n",
      "\n",
      "              Price:\n",
      "             \n",
      "\n",
      "\n",
      "\n",
      "                ₹46,999.00\n",
      "               \n",
      "\n",
      "                ₹46,999.00\n",
      "               \n",
      "\n",
      "\n",
      "\n",
      "\n",
      "\n",
      "\n",
      "\n",
      "\n",
      "\n",
      "\n",
      "\n",
      "\n",
      "\n",
      "\n",
      "\n",
      "\n",
      "\n",
      "\n",
      "\n",
      "\n",
      "\n",
      "\n",
      "\n",
      "\n",
      "\n",
      "               Inclusive of all taxes\n",
      "              \n",
      "\n",
      "\n",
      "\n",
      "\n",
      "\n"
     ]
    }
   ],
   "source": [
    "# Connect To The Website\n",
    "\n",
    "URL = 'https://www.amazon.in/OnePlus-Silver-Storage-hands-free-capable/dp/B09N3YP13B/ref=sxin_14_recs_zoco_stores_brand_identity_bs?crid=3CH971SD5LXDB&cv_ct_cx=oneplus&keywords=oneplus&pd_rd_i=B09N3YP13B&pd_rd_r=43325e81-0b64-4fa9-8318-82a6748dffd4&pd_rd_w=GyTll&pd_rd_wg=w7AVL&pf_rd_p=ec420b95-e25a-4d56-810b-fe565541b9a1&pf_rd_r=QPRQ0ZT1HWKN3M7KPYE2&qid=1651576876&sprefix=oneplus%2Caps%2C295&sr=1-2-b822a75a-02bd-4e74-9ea0-74ac82a72141&th=1'\n",
    "\n",
    "headers = {\"User-Agent\": \"Mozilla/5.0 (Windows NT 10.0; Win64; x64) AppleWebKit/537.36 (KHTML, like Gecko) Chrome/100.0.4896.127 Safari/537.36\"}\n",
    "\n",
    "r = requests.get(URL, headers=headers)\n",
    "\n",
    "soup1 = BeautifulSoup(r.content, \"html.parser\") \n",
    "\n",
    "soup2 = BeautifulSoup(soup1.prettify(), \"html.parser\")\n",
    "\n",
    "title = soup2.find(id ='titleSection').get_text()\n",
    "\n",
    "price = soup2.find(id ='corePrice_desktop').get_text()\n",
    "\n",
    "print(title)\n",
    "print(price)"
   ]
  },
  {
   "cell_type": "code",
   "execution_count": 3,
   "id": "4f821349",
   "metadata": {},
   "outputs": [
    {
     "name": "stdout",
     "output_type": "stream",
     "text": [
      "OnePlus 9RT 5G (Hacker Black, 12GB RAM, 256GB Storage)+Alexa hands-free capable\n",
      "46,999.00\n"
     ]
    }
   ],
   "source": [
    "# Stripping Whitespace From The Title\n",
    "\n",
    "title = title.strip()\n",
    "print(title)\n",
    "\n",
    "\n",
    "# Removing '\\n' and ' ' From String, Converting It Into A List Based On ₹ As The Delimiter And Then Extracting The Price\n",
    "\n",
    "price = price.translate({ord('\\n'): None , ord(' '): None})\n",
    "price = price.split('₹')\n",
    "price = price[1]\n",
    "\n",
    "print(price)"
   ]
  },
  {
   "cell_type": "code",
   "execution_count": 4,
   "id": "e05425ce",
   "metadata": {},
   "outputs": [
    {
     "name": "stdout",
     "output_type": "stream",
     "text": [
      "2022-05-03\n"
     ]
    }
   ],
   "source": [
    "# Creating A Timestamp For Output To Track When Data Was Collected\n",
    "\n",
    "today = datetime.date.today()\n",
    "\n",
    "print(today)"
   ]
  },
  {
   "cell_type": "code",
   "execution_count": 11,
   "id": "58a10f1c",
   "metadata": {},
   "outputs": [],
   "source": [
    "# Create CSV And Write Headers And Data Into The File\n",
    "\n",
    "\n",
    "header = ['Title', 'Price', 'Date']\n",
    "data = [title, price, today]\n",
    "\n",
    "\n",
    "with open('AmazonWebScraperDataset.csv', 'w', newline='', encoding='UTF8') as f:\n",
    "    writer = csv.writer(f)\n",
    "    writer.writerow(header)\n",
    "    writer.writerow(data)\n",
    "    "
   ]
  },
  {
   "cell_type": "code",
   "execution_count": 12,
   "id": "bd82a390",
   "metadata": {},
   "outputs": [
    {
     "name": "stdout",
     "output_type": "stream",
     "text": [
      "                                               Title      Price        Date\n",
      "0  OnePlus 9RT 5G (Hacker Black, 12GB RAM, 256GB ...  46,999.00  2022-05-03\n"
     ]
    }
   ],
   "source": [
    "# Reading The CSV Just Made\n",
    "\n",
    "df = pd.read_csv(r'C:\\Users\\Varsha Patil\\AmazonWebScraperDataset.csv')\n",
    "\n",
    "print(df)"
   ]
  },
  {
   "cell_type": "code",
   "execution_count": 22,
   "id": "b30e6108",
   "metadata": {},
   "outputs": [],
   "source": [
    "#Now Appending Data To The CSV\n",
    "\n",
    "with open('AmazonWebScraperDataset.csv', 'a+', newline='', encoding='UTF8') as f:\n",
    "    writer = csv.writer(f)\n",
    "    writer.writerow(data)"
   ]
  },
  {
   "cell_type": "code",
   "execution_count": 23,
   "id": "4a5b116e",
   "metadata": {},
   "outputs": [
    {
     "name": "stdout",
     "output_type": "stream",
     "text": [
      "                                               Title      Price        Date\n",
      "0  OnePlus 9RT 5G (Hacker Black, 12GB RAM, 256GB ...  46,999.00  2022-05-03\n"
     ]
    }
   ],
   "source": [
    "print(df)"
   ]
  },
  {
   "cell_type": "code",
   "execution_count": 19,
   "id": "2628ace8",
   "metadata": {},
   "outputs": [],
   "source": [
    "# Combine all of the above code into one function\n",
    "\n",
    "def check_price():\n",
    "    URL = 'https://www.amazon.in/OnePlus-Silver-Storage-hands-free-capable/dp/B09N3YP13B/ref=sxin_14_recs_zoco_stores_brand_identity_bs?crid=3CH971SD5LXDB&cv_ct_cx=oneplus&keywords=oneplus&pd_rd_i=B09N3YP13B&pd_rd_r=43325e81-0b64-4fa9-8318-82a6748dffd4&pd_rd_w=GyTll&pd_rd_wg=w7AVL&pf_rd_p=ec420b95-e25a-4d56-810b-fe565541b9a1&pf_rd_r=QPRQ0ZT1HWKN3M7KPYE2&qid=1651576876&sprefix=oneplus%2Caps%2C295&sr=1-2-b822a75a-02bd-4e74-9ea0-74ac82a72141&th=1'\n",
    "\n",
    "    headers = {\"User-Agent\": \"Mozilla/5.0 (Windows NT 10.0; Win64; x64) AppleWebKit/537.36 (KHTML, like Gecko) Chrome/100.0.4896.127 Safari/537.36\"}\n",
    "\n",
    "    r = requests.get(URL, headers=headers)\n",
    "\n",
    "    soup1 = BeautifulSoup(r.content, \"html.parser\") \n",
    "\n",
    "    soup2 = BeautifulSoup(soup1.prettify(), \"html.parser\")\n",
    "\n",
    "    title = soup2.find(id ='titleSection').get_text()\n",
    "\n",
    "    price = soup2.find(id ='corePrice_desktop').get_text()\n",
    "    \n",
    "    title = title.strip()\n",
    "    \n",
    "    price = price.translate({ord('\\n'): None , ord(' '): None})\n",
    "    \n",
    "    price = price.split('₹')\n",
    "    \n",
    "    price = price[1]\n",
    "    \n",
    "    today = datetime.date.today()\n",
    "\n",
    "    import csv \n",
    "\n",
    "    header = ['Title', 'Price', 'Date']\n",
    "    data = [title, price, today]\n",
    "\n",
    "    with open('AmazonWebScraperDataset.csv', 'a+', newline='', encoding='UTF8') as f:\n",
    "        writer = csv.writer(f)\n",
    "        writer.writerow(data)\n",
    "\n",
    "    \n",
    "    \n"
   ]
  },
  {
   "cell_type": "code",
   "execution_count": 20,
   "id": "bc73ca16",
   "metadata": {},
   "outputs": [
    {
     "ename": "KeyboardInterrupt",
     "evalue": "",
     "output_type": "error",
     "traceback": [
      "\u001b[1;31m---------------------------------------------------------------------------\u001b[0m",
      "\u001b[1;31mKeyboardInterrupt\u001b[0m                         Traceback (most recent call last)",
      "\u001b[1;32mC:\\Users\\VARSHA~1\\AppData\\Local\\Temp/ipykernel_2492/1573595243.py\u001b[0m in \u001b[0;36m<module>\u001b[1;34m\u001b[0m\n\u001b[0;32m      3\u001b[0m \u001b[1;32mwhile\u001b[0m\u001b[1;33m(\u001b[0m\u001b[1;32mTrue\u001b[0m\u001b[1;33m)\u001b[0m\u001b[1;33m:\u001b[0m\u001b[1;33m\u001b[0m\u001b[1;33m\u001b[0m\u001b[0m\n\u001b[0;32m      4\u001b[0m     \u001b[0mcheck_price\u001b[0m\u001b[1;33m(\u001b[0m\u001b[1;33m)\u001b[0m\u001b[1;33m\u001b[0m\u001b[1;33m\u001b[0m\u001b[0m\n\u001b[1;32m----> 5\u001b[1;33m     \u001b[0mtime\u001b[0m\u001b[1;33m.\u001b[0m\u001b[0msleep\u001b[0m\u001b[1;33m(\u001b[0m\u001b[1;36m60\u001b[0m\u001b[1;33m)\u001b[0m\u001b[1;33m\u001b[0m\u001b[1;33m\u001b[0m\u001b[0m\n\u001b[0m",
      "\u001b[1;31mKeyboardInterrupt\u001b[0m: "
     ]
    }
   ],
   "source": [
    "# Runs check_price after a set time and inputs data into your CSV\n",
    "\n",
    "while(True):\n",
    "    check_price()\n",
    "    time.sleep(60)"
   ]
  },
  {
   "cell_type": "code",
   "execution_count": 21,
   "id": "e32d141c",
   "metadata": {},
   "outputs": [
    {
     "name": "stdout",
     "output_type": "stream",
     "text": [
      "                                               Title      Price        Date\n",
      "0  OnePlus 9RT 5G (Hacker Black, 12GB RAM, 256GB ...  46,999.00  2022-05-03\n"
     ]
    }
   ],
   "source": [
    "print(df)"
   ]
  },
  {
   "cell_type": "code",
   "execution_count": null,
   "id": "e5b64378",
   "metadata": {},
   "outputs": [],
   "source": []
  }
 ],
 "metadata": {
  "kernelspec": {
   "display_name": "Python 3 (ipykernel)",
   "language": "python",
   "name": "python3"
  },
  "language_info": {
   "codemirror_mode": {
    "name": "ipython",
    "version": 3
   },
   "file_extension": ".py",
   "mimetype": "text/x-python",
   "name": "python",
   "nbconvert_exporter": "python",
   "pygments_lexer": "ipython3",
   "version": "3.9.7"
  }
 },
 "nbformat": 4,
 "nbformat_minor": 5
}
